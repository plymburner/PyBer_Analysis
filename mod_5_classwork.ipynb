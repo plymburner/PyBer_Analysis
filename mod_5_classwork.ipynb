{
 "cells": [
  {
   "cell_type": "code",
   "execution_count": null,
   "metadata": {},
   "outputs": [],
   "source": []
  }
 ],
 "metadata": {
  "kernelspec": {
   "display_name": "Python 3.9.12 ('base')",
   "language": "python",
   "name": "python3"
  },
  "language_info": {
   "name": "python",
   "version": "3.9.12"
  },
  "orig_nbformat": 4,
  "vscode": {
   "interpreter": {
    "hash": "a771f3bcfbed64c9cd38cd1416e838abc1023d87cddb35a70c04543c3ba76ba9"
   }
  }
 },
 "nbformat": 4,
 "nbformat_minor": 2
}
